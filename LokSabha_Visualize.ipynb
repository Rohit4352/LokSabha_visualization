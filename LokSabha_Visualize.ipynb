{
  "nbformat": 4,
  "nbformat_minor": 0,
  "metadata": {
    "kernelspec": {
      "language": "python",
      "display_name": "Python 3",
      "name": "python3"
    },
    "language_info": {
      "name": "python",
      "version": "3.7.6",
      "mimetype": "text/x-python",
      "codemirror_mode": {
        "name": "ipython",
        "version": 3
      },
      "pygments_lexer": "ipython3",
      "nbconvert_exporter": "python",
      "file_extension": ".py"
    },
    "colab": {
      "name": "LokSabha_Visualize.ipynb",
      "provenance": [],
      "toc_visible": true,
      "include_colab_link": true
    }
  },
  "cells": [
    {
      "cell_type": "markdown",
      "metadata": {
        "id": "view-in-github",
        "colab_type": "text"
      },
      "source": [
        "<a href=\"https://colab.research.google.com/github/Rohit4352/LokSabha_visualization/blob/master/LokSabha_Visualize.ipynb\" target=\"_parent\"><img src=\"https://colab.research.google.com/assets/colab-badge.svg\" alt=\"Open In Colab\"/></a>"
      ]
    },
    {
      "cell_type": "markdown",
      "metadata": {
        "id": "mjFrE5BX4bWO",
        "colab_type": "text"
      },
      "source": [
        "# Loksabha data (2004,2019)"
      ]
    },
    {
      "cell_type": "code",
      "metadata": {
        "id": "wA4ngrnAaC9l",
        "trusted": true,
        "colab_type": "code",
        "colab": {
          "base_uri": "https://localhost:8080/",
          "height": 70
        },
        "outputId": "e0b1a244-943c-4ee8-e516-a983176a40ff"
      },
      "source": [
        "# This Python 3 environment comes with many helpful analytics libraries installed\n",
        "# It is defined by the kaggle/python Docker image: https://github.com/kaggle/docker-python\n",
        "# For example, here's several helpful packages to load\n",
        "\n",
        "import numpy as np # linear algebra\n",
        "import pandas as pd # data processing, CSV file I/O (e.g. pd.read_csv)\n",
        "import matplotlib.pyplot as plt\n",
        "import seaborn as sns\n",
        "import os\n",
        "import json;\n",
        "\n",
        "%matplotlib inline\n",
        "# Input data files are available in the read-only \"../input/\" directory\n",
        "# For example, running this (by clicking run or pressing Shift+Enter) will list all files under the input directory\n",
        "\n",
        "import os\n",
        "for dirname, _, filenames in os.walk('/kaggle/input'):\n",
        "    for filename in filenames:\n",
        "        print(os.path.join(dirname, filename))\n",
        "\n",
        "# You can write up to 5GB to the current directory (/kaggle/working/) that gets preserved as output when you create a version using \"Save & Run All\" \n",
        "# You can also write temporary files to /kaggle/temp/, but they won't be saved outside of the current session"
      ],
      "execution_count": 1,
      "outputs": [
        {
          "output_type": "stream",
          "text": [
            "/usr/local/lib/python3.6/dist-packages/statsmodels/tools/_testing.py:19: FutureWarning: pandas.util.testing is deprecated. Use the functions in the public API at pandas.testing instead.\n",
            "  import pandas.util.testing as tm\n"
          ],
          "name": "stderr"
        }
      ]
    },
    {
      "cell_type": "markdown",
      "metadata": {
        "id": "7PNPJV8S4bWS",
        "colab_type": "text"
      },
      "source": [
        "# Import the dataset"
      ]
    },
    {
      "cell_type": "markdown",
      "metadata": {
        "id": "alUQVGM64bWS",
        "colab_type": "text"
      },
      "source": [
        "This notebook uses 4 csv files (2004, 2009, 2014, 2019)"
      ]
    },
    {
      "cell_type": "code",
      "metadata": {
        "id": "8mpsuTGtHtnZ",
        "trusted": true,
        "colab_type": "code",
        "colab": {}
      },
      "source": [
        "df_2004 = pd.read_csv(\"LokSabha2004.csv\")\n",
        "df_2009 = pd.read_csv(\"LokSabha2009.csv\")\n",
        "df_2014 = pd.read_csv(\"LokSabha2014.csv\")\n",
        "df_2019 = pd.read_csv(\"LokSabha2019.csv\")"
      ],
      "execution_count": 2,
      "outputs": []
    },
    {
      "cell_type": "markdown",
      "metadata": {
        "id": "Xz5VRx514bWW",
        "colab_type": "text"
      },
      "source": [
        "Create a year stamp on each dataset"
      ]
    },
    {
      "cell_type": "code",
      "metadata": {
        "id": "tEV3yK3-gkCI",
        "trusted": true,
        "colab_type": "code",
        "colab": {}
      },
      "source": [
        "df_2004[\"Year\"] = 2004\n",
        "df_2009[\"Year\"] = 2009\n",
        "df_2014[\"Year\"] = 2014\n",
        "df_2019[\"Year\"] = 2019\n",
        "Frames = [df_2004,df_2009,df_2014,df_2019]"
      ],
      "execution_count": 3,
      "outputs": []
    },
    {
      "cell_type": "markdown",
      "metadata": {
        "id": "Txz1zQ9s4bWZ",
        "colab_type": "text"
      },
      "source": [
        "Concat the dataset axis=1"
      ]
    },
    {
      "cell_type": "code",
      "metadata": {
        "id": "Jq5AWYD2iuYk",
        "trusted": true,
        "colab_type": "code",
        "colab": {
          "base_uri": "https://localhost:8080/",
          "height": 402
        },
        "outputId": "a3259c3a-ad99-4b75-e88a-60a6043f6e04"
      },
      "source": [
        "Data = pd.concat(Frames)\n",
        "Data"
      ],
      "execution_count": 4,
      "outputs": [
        {
          "output_type": "execute_result",
          "data": {
            "text/html": [
              "<div>\n",
              "<style scoped>\n",
              "    .dataframe tbody tr th:only-of-type {\n",
              "        vertical-align: middle;\n",
              "    }\n",
              "\n",
              "    .dataframe tbody tr th {\n",
              "        vertical-align: top;\n",
              "    }\n",
              "\n",
              "    .dataframe thead th {\n",
              "        text-align: right;\n",
              "    }\n",
              "</style>\n",
              "<table border=\"1\" class=\"dataframe\">\n",
              "  <thead>\n",
              "    <tr style=\"text-align: right;\">\n",
              "      <th></th>\n",
              "      <th>Candidate</th>\n",
              "      <th>Party</th>\n",
              "      <th>Criminal Cases</th>\n",
              "      <th>Education</th>\n",
              "      <th>Age</th>\n",
              "      <th>City</th>\n",
              "      <th>Year</th>\n",
              "    </tr>\n",
              "  </thead>\n",
              "  <tbody>\n",
              "    <tr>\n",
              "      <th>0</th>\n",
              "      <td>MANORANJAN BHAKTA</td>\n",
              "      <td>INC</td>\n",
              "      <td>0</td>\n",
              "      <td>Post Graduate</td>\n",
              "      <td>65</td>\n",
              "      <td>Andaman &amp; Nicobar Islands</td>\n",
              "      <td>2004</td>\n",
              "    </tr>\n",
              "    <tr>\n",
              "      <th>1</th>\n",
              "      <td>A K BISWAS</td>\n",
              "      <td>BSP</td>\n",
              "      <td>0</td>\n",
              "      <td>Graduate</td>\n",
              "      <td>61</td>\n",
              "      <td>Andaman &amp; Nicobar Islands</td>\n",
              "      <td>2004</td>\n",
              "    </tr>\n",
              "    <tr>\n",
              "      <th>2</th>\n",
              "      <td>ASIT BARAN DUTTA</td>\n",
              "      <td>IND</td>\n",
              "      <td>0</td>\n",
              "      <td>Graduate</td>\n",
              "      <td>50</td>\n",
              "      <td>Andaman &amp; Nicobar Islands</td>\n",
              "      <td>2004</td>\n",
              "    </tr>\n",
              "    <tr>\n",
              "      <th>3</th>\n",
              "      <td>BISHNU PADA RAY</td>\n",
              "      <td>BJP</td>\n",
              "      <td>0</td>\n",
              "      <td>Graduate</td>\n",
              "      <td>54</td>\n",
              "      <td>Andaman &amp; Nicobar Islands</td>\n",
              "      <td>2004</td>\n",
              "    </tr>\n",
              "    <tr>\n",
              "      <th>4</th>\n",
              "      <td>DEEPAK BISWAS</td>\n",
              "      <td>IND</td>\n",
              "      <td>0</td>\n",
              "      <td>Not Given</td>\n",
              "      <td>28</td>\n",
              "      <td>Andaman &amp; Nicobar Islands</td>\n",
              "      <td>2004</td>\n",
              "    </tr>\n",
              "    <tr>\n",
              "      <th>...</th>\n",
              "      <td>...</td>\n",
              "      <td>...</td>\n",
              "      <td>...</td>\n",
              "      <td>...</td>\n",
              "      <td>...</td>\n",
              "      <td>...</td>\n",
              "      <td>...</td>\n",
              "    </tr>\n",
              "    <tr>\n",
              "      <th>7963</th>\n",
              "      <td>Maksuda Khatun</td>\n",
              "      <td>CPI(M)</td>\n",
              "      <td>0</td>\n",
              "      <td>Doctorate</td>\n",
              "      <td>58</td>\n",
              "      <td>ULUBERIA</td>\n",
              "      <td>2019</td>\n",
              "    </tr>\n",
              "    <tr>\n",
              "      <th>7964</th>\n",
              "      <td>Minati Sarkar</td>\n",
              "      <td>SUCI(C)</td>\n",
              "      <td>0</td>\n",
              "      <td>Graduate</td>\n",
              "      <td>61</td>\n",
              "      <td>ULUBERIA</td>\n",
              "      <td>2019</td>\n",
              "    </tr>\n",
              "    <tr>\n",
              "      <th>7965</th>\n",
              "      <td>Shoma Ranisree Roy\\t</td>\n",
              "      <td>INC</td>\n",
              "      <td>0</td>\n",
              "      <td>Post Graduate</td>\n",
              "      <td>40</td>\n",
              "      <td>ULUBERIA</td>\n",
              "      <td>2019</td>\n",
              "    </tr>\n",
              "    <tr>\n",
              "      <th>7966</th>\n",
              "      <td>Simal Saren</td>\n",
              "      <td>Indian Unity Centre</td>\n",
              "      <td>0</td>\n",
              "      <td>Graduate Professional</td>\n",
              "      <td>33</td>\n",
              "      <td>ULUBERIA</td>\n",
              "      <td>2019</td>\n",
              "    </tr>\n",
              "    <tr>\n",
              "      <th>7967</th>\n",
              "      <td>Susanta Kumar Dalui</td>\n",
              "      <td>IND</td>\n",
              "      <td>0</td>\n",
              "      <td>10th Pass</td>\n",
              "      <td>54</td>\n",
              "      <td>ULUBERIA</td>\n",
              "      <td>2019</td>\n",
              "    </tr>\n",
              "  </tbody>\n",
              "</table>\n",
              "<p>28014 rows × 7 columns</p>\n",
              "</div>"
            ],
            "text/plain": [
              "                 Candidate  ...  Year\n",
              "0        MANORANJAN BHAKTA  ...  2004\n",
              "1               A K BISWAS  ...  2004\n",
              "2         ASIT BARAN DUTTA  ...  2004\n",
              "3          BISHNU PADA RAY  ...  2004\n",
              "4            DEEPAK BISWAS  ...  2004\n",
              "...                    ...  ...   ...\n",
              "7963        Maksuda Khatun  ...  2019\n",
              "7964         Minati Sarkar  ...  2019\n",
              "7965  Shoma Ranisree Roy\\t  ...  2019\n",
              "7966           Simal Saren  ...  2019\n",
              "7967   Susanta Kumar Dalui  ...  2019\n",
              "\n",
              "[28014 rows x 7 columns]"
            ]
          },
          "metadata": {
            "tags": []
          },
          "execution_count": 4
        }
      ]
    },
    {
      "cell_type": "markdown",
      "metadata": {
        "id": "h0fz93CJVRIp",
        "colab_type": "text"
      },
      "source": [
        "# Exploratory Analysis\n",
        "To begin this exploratory analysis, import libraries and define functions for plotting the data using matplotlib, seaborn."
      ]
    },
    {
      "cell_type": "code",
      "metadata": {
        "id": "q8-m0CSjqj7U",
        "trusted": true,
        "colab_type": "code",
        "colab": {
          "base_uri": "https://localhost:8080/",
          "height": 575
        },
        "outputId": "62d96b67-f152-4a0a-e65e-8eb1b75d9290"
      },
      "source": [
        "df1 = pd.DataFrame(Data['Education'].value_counts(normalize=True),\n",
        "                   index=['Doctorate','Graduate Professional', 'Graduate','Post Graduate','12th Pass','10th Pass','8th Pass','5th Pass','Literate','Not Given','Illiterate','Others'])\n",
        "plot = df1.plot.pie(subplots=True, autopct='%1.1f%%', figsize=(10, 10))"
      ],
      "execution_count": 5,
      "outputs": [
        {
          "output_type": "display_data",
          "data": {
            "image/png": "[encoded data removed]",
            "text/plain": [
              "<Figure size 720x720 with 1 Axes>"
            ]
          },
          "metadata": {
            "tags": []
          }
        }
      ]
    },
    {
      "cell_type": "markdown",
      "metadata": {
        "id": "uHGP6dkTuW01",
        "colab_type": "text"
      },
      "source": [
        "\n",
        "\n",
        "> More than 25% of politicians are not enough literate to govern the city.\n"
      ]
    },
    {
      "cell_type": "markdown",
      "metadata": {
        "id": "m9jOzvlI4bWf",
        "colab_type": "text"
      },
      "source": [
        "# Relational Graphs"
      ]
    },
    {
      "cell_type": "code",
      "metadata": {
        "id": "wso4y4OhUj8c",
        "trusted": true,
        "colab_type": "code",
        "colab": {
          "base_uri": "https://localhost:8080/",
          "height": 570
        },
        "outputId": "e67b0dde-ef16-4c10-af7c-cd1e3950cba6"
      },
      "source": [
        "sns.pairplot(Data);"
      ],
      "execution_count": 6,
      "outputs": [
        {
          "output_type": "display_data",
          "data": {
            "image/png": "[encoded data removed]",
            "text/plain": [
              "<Figure size 540x540 with 12 Axes>"
            ]
          },
          "metadata": {
            "tags": [],
            "needs_background": "light"
          }
        }
      ]
    },
    {
      "cell_type": "markdown",
      "metadata": {
        "id": "rGV5_Zyo4bWi",
        "colab_type": "text"
      },
      "source": [
        "Criminal cases for the candidate of age 40-60 is higher.\n",
        "Criminal cases seems to be higher in 2019"
      ]
    },
    {
      "cell_type": "markdown",
      "metadata": {
        "id": "ZvTW3vfu4bWj",
        "colab_type": "text"
      },
      "source": [
        "# **Education bar plot**"
      ]
    },
    {
      "cell_type": "code",
      "metadata": {
        "id": "VRyxKshKTM1S",
        "trusted": true,
        "colab_type": "code",
        "colab": {
          "base_uri": "https://localhost:8080/",
          "height": 537
        },
        "outputId": "fd80f5d5-a9ea-4095-9e5a-6854db54c4e8"
      },
      "source": [
        "Data['Education'].value_counts().plot(kind='barh', figsize=(20,10))\n",
        "plt.xlabel(\"no. of candidates\")\n",
        "plt.ylabel(\"qualificaton\");"
      ],
      "execution_count": 7,
      "outputs": [
        {
          "output_type": "display_data",
          "data": {
            "image/png": "[encoded data removed]",
            "text/plain": [
              "<Figure size 1440x720 with 1 Axes>"
            ]
          },
          "metadata": {
            "tags": [],
            "needs_background": "light"
          }
        }
      ]
    },
    {
      "cell_type": "code",
      "metadata": {
        "id": "bwm7KMB3rIYM",
        "trusted": true,
        "colab_type": "code",
        "colab": {
          "base_uri": "https://localhost:8080/",
          "height": 879
        },
        "outputId": "c8819958-abc0-4165-e87d-5aca2493acc9"
      },
      "source": [
        "Data.hist(bins = 30, figsize=(15,15), color= 'Blue');"
      ],
      "execution_count": 8,
      "outputs": [
        {
          "output_type": "display_data",
          "data": {
            "image/png": "[encoded data removed]",
            "text/plain": [
              "<Figure size 1080x1080 with 4 Axes>"
            ]
          },
          "metadata": {
            "tags": [],
            "needs_background": "light"
          }
        }
      ]
    },
    {
      "cell_type": "markdown",
      "metadata": {
        "id": "qBm2Ar4m4bWn",
        "colab_type": "text"
      },
      "source": [
        "# **Data sorted by criminal records**"
      ]
    },
    {
      "cell_type": "code",
      "metadata": {
        "id": "pjj7rDq1JwfP",
        "trusted": true,
        "colab_type": "code",
        "colab": {
          "base_uri": "https://localhost:8080/",
          "height": 431
        },
        "outputId": "6bdc7a89-e3df-4de7-8b13-e31783620b97"
      },
      "source": [
        "df1 = pd.DataFrame(Data.groupby('Party')['Criminal Cases'].nunique())\n",
        "df1.sort_values(by=['Criminal Cases'], inplace=True)\n",
        "df1"
      ],
      "execution_count": 9,
      "outputs": [
        {
          "output_type": "execute_result",
          "data": {
            "text/html": [
              "<div>\n",
              "<style scoped>\n",
              "    .dataframe tbody tr th:only-of-type {\n",
              "        vertical-align: middle;\n",
              "    }\n",
              "\n",
              "    .dataframe tbody tr th {\n",
              "        vertical-align: top;\n",
              "    }\n",
              "\n",
              "    .dataframe thead th {\n",
              "        text-align: right;\n",
              "    }\n",
              "</style>\n",
              "<table border=\"1\" class=\"dataframe\">\n",
              "  <thead>\n",
              "    <tr style=\"text-align: right;\">\n",
              "      <th></th>\n",
              "      <th>Criminal Cases</th>\n",
              "    </tr>\n",
              "    <tr>\n",
              "      <th>Party</th>\n",
              "      <th></th>\n",
              "    </tr>\n",
              "  </thead>\n",
              "  <tbody>\n",
              "    <tr>\n",
              "      <th>A-Chik National Congress(Democratic)</th>\n",
              "      <td>1</td>\n",
              "    </tr>\n",
              "    <tr>\n",
              "      <th>National Womens Party</th>\n",
              "      <td>1</td>\n",
              "    </tr>\n",
              "    <tr>\n",
              "      <th>Nationalist Democratic Progressive Party</th>\n",
              "      <td>1</td>\n",
              "    </tr>\n",
              "    <tr>\n",
              "      <th>Nationalist Janshakti Party</th>\n",
              "      <td>1</td>\n",
              "    </tr>\n",
              "    <tr>\n",
              "      <th>Nationalist Justice Party</th>\n",
              "      <td>1</td>\n",
              "    </tr>\n",
              "    <tr>\n",
              "      <th>...</th>\n",
              "      <td>...</td>\n",
              "    </tr>\n",
              "    <tr>\n",
              "      <th>BSP</th>\n",
              "      <td>19</td>\n",
              "    </tr>\n",
              "    <tr>\n",
              "      <th>SP</th>\n",
              "      <td>20</td>\n",
              "    </tr>\n",
              "    <tr>\n",
              "      <th>INC</th>\n",
              "      <td>21</td>\n",
              "    </tr>\n",
              "    <tr>\n",
              "      <th>BJP</th>\n",
              "      <td>24</td>\n",
              "    </tr>\n",
              "    <tr>\n",
              "      <th>IND</th>\n",
              "      <td>28</td>\n",
              "    </tr>\n",
              "  </tbody>\n",
              "</table>\n",
              "<p>1332 rows × 1 columns</p>\n",
              "</div>"
            ],
            "text/plain": [
              "                                          Criminal Cases\n",
              "Party                                                   \n",
              "A-Chik National Congress(Democratic)                   1\n",
              "National Womens Party                                  1\n",
              "Nationalist Democratic Progressive Party               1\n",
              "Nationalist Janshakti Party                            1\n",
              "Nationalist Justice Party                              1\n",
              "...                                                  ...\n",
              "BSP                                                   19\n",
              "SP                                                    20\n",
              "INC                                                   21\n",
              "BJP                                                   24\n",
              "IND                                                   28\n",
              "\n",
              "[1332 rows x 1 columns]"
            ]
          },
          "metadata": {
            "tags": []
          },
          "execution_count": 9
        }
      ]
    },
    {
      "cell_type": "markdown",
      "metadata": {
        "id": "9yfO8-To4bWp",
        "colab_type": "text"
      },
      "source": [
        "Parties with highest no. of criminal records"
      ]
    },
    {
      "cell_type": "code",
      "metadata": {
        "id": "Am-8U5WUNPw9",
        "trusted": true,
        "colab_type": "code",
        "colab": {
          "base_uri": "https://localhost:8080/",
          "height": 521
        },
        "outputId": "58a463ec-7fbd-40f8-abc6-49894925a554"
      },
      "source": [
        "df1[df1['Criminal Cases']>=10]"
      ],
      "execution_count": 10,
      "outputs": [
        {
          "output_type": "execute_result",
          "data": {
            "text/html": [
              "<div>\n",
              "<style scoped>\n",
              "    .dataframe tbody tr th:only-of-type {\n",
              "        vertical-align: middle;\n",
              "    }\n",
              "\n",
              "    .dataframe tbody tr th {\n",
              "        vertical-align: top;\n",
              "    }\n",
              "\n",
              "    .dataframe thead th {\n",
              "        text-align: right;\n",
              "    }\n",
              "</style>\n",
              "<table border=\"1\" class=\"dataframe\">\n",
              "  <thead>\n",
              "    <tr style=\"text-align: right;\">\n",
              "      <th></th>\n",
              "      <th>Criminal Cases</th>\n",
              "    </tr>\n",
              "    <tr>\n",
              "      <th>Party</th>\n",
              "      <th></th>\n",
              "    </tr>\n",
              "  </thead>\n",
              "  <tbody>\n",
              "    <tr>\n",
              "      <th>CPI</th>\n",
              "      <td>10</td>\n",
              "    </tr>\n",
              "    <tr>\n",
              "      <th>CPI(ML)L</th>\n",
              "      <td>11</td>\n",
              "    </tr>\n",
              "    <tr>\n",
              "      <th>CPI(ML)(L)</th>\n",
              "      <td>12</td>\n",
              "    </tr>\n",
              "    <tr>\n",
              "      <th>RJD</th>\n",
              "      <td>12</td>\n",
              "    </tr>\n",
              "    <tr>\n",
              "      <th>AAP</th>\n",
              "      <td>12</td>\n",
              "    </tr>\n",
              "    <tr>\n",
              "      <th>JD(U)</th>\n",
              "      <td>13</td>\n",
              "    </tr>\n",
              "    <tr>\n",
              "      <th>CPI(M)</th>\n",
              "      <td>13</td>\n",
              "    </tr>\n",
              "    <tr>\n",
              "      <th>SHS</th>\n",
              "      <td>14</td>\n",
              "    </tr>\n",
              "    <tr>\n",
              "      <th>NCP</th>\n",
              "      <td>14</td>\n",
              "    </tr>\n",
              "    <tr>\n",
              "      <th>CPM</th>\n",
              "      <td>14</td>\n",
              "    </tr>\n",
              "    <tr>\n",
              "      <th>BSP</th>\n",
              "      <td>19</td>\n",
              "    </tr>\n",
              "    <tr>\n",
              "      <th>SP</th>\n",
              "      <td>20</td>\n",
              "    </tr>\n",
              "    <tr>\n",
              "      <th>INC</th>\n",
              "      <td>21</td>\n",
              "    </tr>\n",
              "    <tr>\n",
              "      <th>BJP</th>\n",
              "      <td>24</td>\n",
              "    </tr>\n",
              "    <tr>\n",
              "      <th>IND</th>\n",
              "      <td>28</td>\n",
              "    </tr>\n",
              "  </tbody>\n",
              "</table>\n",
              "</div>"
            ],
            "text/plain": [
              "            Criminal Cases\n",
              "Party                     \n",
              "CPI                     10\n",
              "CPI(ML)L                11\n",
              "CPI(ML)(L)              12\n",
              "RJD                     12\n",
              "AAP                     12\n",
              "JD(U)                   13\n",
              "CPI(M)                  13\n",
              "SHS                     14\n",
              "NCP                     14\n",
              "CPM                     14\n",
              "BSP                     19\n",
              "SP                      20\n",
              "INC                     21\n",
              "BJP                     24\n",
              "IND                     28"
            ]
          },
          "metadata": {
            "tags": []
          },
          "execution_count": 10
        }
      ]
    },
    {
      "cell_type": "markdown",
      "metadata": {
        "id": "QVuwo1RF4bWu",
        "colab_type": "text"
      },
      "source": [
        "Parties with least number of criminal record"
      ]
    },
    {
      "cell_type": "code",
      "metadata": {
        "id": "ZsQXy3qGNbdN",
        "trusted": true,
        "colab_type": "code",
        "colab": {
          "base_uri": "https://localhost:8080/",
          "height": 431
        },
        "outputId": "222516fd-6988-4d9c-bacd-37bcdcaca7c9"
      },
      "source": [
        "df1[df1['Criminal Cases']==1]"
      ],
      "execution_count": 11,
      "outputs": [
        {
          "output_type": "execute_result",
          "data": {
            "text/html": [
              "<div>\n",
              "<style scoped>\n",
              "    .dataframe tbody tr th:only-of-type {\n",
              "        vertical-align: middle;\n",
              "    }\n",
              "\n",
              "    .dataframe tbody tr th {\n",
              "        vertical-align: top;\n",
              "    }\n",
              "\n",
              "    .dataframe thead th {\n",
              "        text-align: right;\n",
              "    }\n",
              "</style>\n",
              "<table border=\"1\" class=\"dataframe\">\n",
              "  <thead>\n",
              "    <tr style=\"text-align: right;\">\n",
              "      <th></th>\n",
              "      <th>Criminal Cases</th>\n",
              "    </tr>\n",
              "    <tr>\n",
              "      <th>Party</th>\n",
              "      <th></th>\n",
              "    </tr>\n",
              "  </thead>\n",
              "  <tbody>\n",
              "    <tr>\n",
              "      <th>A-Chik National Congress(Democratic)</th>\n",
              "      <td>1</td>\n",
              "    </tr>\n",
              "    <tr>\n",
              "      <th>National Womens Party</th>\n",
              "      <td>1</td>\n",
              "    </tr>\n",
              "    <tr>\n",
              "      <th>Nationalist Democratic Progressive Party</th>\n",
              "      <td>1</td>\n",
              "    </tr>\n",
              "    <tr>\n",
              "      <th>Nationalist Janshakti Party</th>\n",
              "      <td>1</td>\n",
              "    </tr>\n",
              "    <tr>\n",
              "      <th>Nationalist Justice Party</th>\n",
              "      <td>1</td>\n",
              "    </tr>\n",
              "    <tr>\n",
              "      <th>...</th>\n",
              "      <td>...</td>\n",
              "    </tr>\n",
              "    <tr>\n",
              "      <th>Desh Janhit Party</th>\n",
              "      <td>1</td>\n",
              "    </tr>\n",
              "    <tr>\n",
              "      <th>Engineers Party</th>\n",
              "      <td>1</td>\n",
              "    </tr>\n",
              "    <tr>\n",
              "      <th>FCI</th>\n",
              "      <td>1</td>\n",
              "    </tr>\n",
              "    <tr>\n",
              "      <th>Chhattisgarh Vikas Ganga Rashtriya Party</th>\n",
              "      <td>1</td>\n",
              "    </tr>\n",
              "    <tr>\n",
              "      <th>Chandigarh Ki Aawaz Party</th>\n",
              "      <td>1</td>\n",
              "    </tr>\n",
              "  </tbody>\n",
              "</table>\n",
              "<p>949 rows × 1 columns</p>\n",
              "</div>"
            ],
            "text/plain": [
              "                                          Criminal Cases\n",
              "Party                                                   \n",
              "A-Chik National Congress(Democratic)                   1\n",
              "National Womens Party                                  1\n",
              "Nationalist Democratic Progressive Party               1\n",
              "Nationalist Janshakti Party                            1\n",
              "Nationalist Justice Party                              1\n",
              "...                                                  ...\n",
              "Desh Janhit Party                                      1\n",
              "Engineers Party                                        1\n",
              "FCI                                                    1\n",
              "Chhattisgarh Vikas Ganga Rashtriya Party               1\n",
              "Chandigarh Ki Aawaz Party                              1\n",
              "\n",
              "[949 rows x 1 columns]"
            ]
          },
          "metadata": {
            "tags": []
          },
          "execution_count": 11
        }
      ]
    },
    {
      "cell_type": "markdown",
      "metadata": {
        "id": "W7CCmyRI4bWw",
        "colab_type": "text"
      },
      "source": [
        "# City with highest crime"
      ]
    },
    {
      "cell_type": "code",
      "metadata": {
        "trusted": true,
        "id": "skaxXPdy4bWw",
        "colab_type": "code",
        "colab": {}
      },
      "source": [
        "df2 = pd.DataFrame(Data.groupby('City')['Criminal Cases'].nunique())\n",
        "df2.sort_values(by=['Criminal Cases'], inplace=True)\n",
        "df2 = df2[df2[\"Criminal Cases\"]>=8]"
      ],
      "execution_count": 12,
      "outputs": []
    },
    {
      "cell_type": "code",
      "metadata": {
        "trusted": true,
        "id": "TqztL9OU4bWy",
        "colab_type": "code",
        "colab": {
          "base_uri": "https://localhost:8080/",
          "height": 334
        },
        "outputId": "60cf3320-af14-4ac8-8e15-41e99d9a6278"
      },
      "source": [
        "df2['Criminal Cases'].plot(kind='barh', figsize=(10,5))\n",
        "plt.xlabel(\"criminal cases\");"
      ],
      "execution_count": 13,
      "outputs": [
        {
          "output_type": "display_data",
          "data": {
            "image/png": "[encoded data removed]",
            "text/plain": [
              "<Figure size 720x360 with 1 Axes>"
            ]
          },
          "metadata": {
            "tags": [],
            "needs_background": "light"
          }
        }
      ]
    },
    {
      "cell_type": "markdown",
      "metadata": {
        "id": "RwqNi4p14bW1",
        "colab_type": "text"
      },
      "source": [
        "# Candidate with most cases"
      ]
    },
    {
      "cell_type": "code",
      "metadata": {
        "trusted": true,
        "id": "GWHhnBPM4bW2",
        "colab_type": "code",
        "colab": {
          "base_uri": "https://localhost:8080/",
          "height": 343
        },
        "outputId": "8e31d575-c5f1-487e-b036-21824d45aaa2"
      },
      "source": [
        "df3 = Data.sort_values(by=['Criminal Cases']).tail(10)\n",
        "df3 "
      ],
      "execution_count": 14,
      "outputs": [
        {
          "output_type": "execute_result",
          "data": {
            "text/html": [
              "<div>\n",
              "<style scoped>\n",
              "    .dataframe tbody tr th:only-of-type {\n",
              "        vertical-align: middle;\n",
              "    }\n",
              "\n",
              "    .dataframe tbody tr th {\n",
              "        vertical-align: top;\n",
              "    }\n",
              "\n",
              "    .dataframe thead th {\n",
              "        text-align: right;\n",
              "    }\n",
              "</style>\n",
              "<table border=\"1\" class=\"dataframe\">\n",
              "  <thead>\n",
              "    <tr style=\"text-align: right;\">\n",
              "      <th></th>\n",
              "      <th>Candidate</th>\n",
              "      <th>Party</th>\n",
              "      <th>Criminal Cases</th>\n",
              "      <th>Education</th>\n",
              "      <th>Age</th>\n",
              "      <th>City</th>\n",
              "      <th>Year</th>\n",
              "    </tr>\n",
              "  </thead>\n",
              "  <tbody>\n",
              "    <tr>\n",
              "      <th>2427</th>\n",
              "      <td>KAMESHWAR BAITHA</td>\n",
              "      <td>JMM</td>\n",
              "      <td>46</td>\n",
              "      <td>10th Pass</td>\n",
              "      <td>56</td>\n",
              "      <td>Palamau</td>\n",
              "      <td>2009</td>\n",
              "    </tr>\n",
              "    <tr>\n",
              "      <th>2267</th>\n",
              "      <td>Kameshwar Baitha</td>\n",
              "      <td>AITC</td>\n",
              "      <td>48</td>\n",
              "      <td>10th Pass</td>\n",
              "      <td>59</td>\n",
              "      <td>PALAMAU</td>\n",
              "      <td>2014</td>\n",
              "    </tr>\n",
              "    <tr>\n",
              "      <th>6031</th>\n",
              "      <td>Bapu Rao Soyam</td>\n",
              "      <td>BJP</td>\n",
              "      <td>52</td>\n",
              "      <td>12th Pass</td>\n",
              "      <td>52</td>\n",
              "      <td>ADILABAD</td>\n",
              "      <td>2019</td>\n",
              "    </tr>\n",
              "    <tr>\n",
              "      <th>7627</th>\n",
              "      <td>Atiq Ahmad</td>\n",
              "      <td>IND</td>\n",
              "      <td>53</td>\n",
              "      <td>8th Pass</td>\n",
              "      <td>55</td>\n",
              "      <td>PHULPUR : BYE ELECTION ON 11-03-2018</td>\n",
              "      <td>2014</td>\n",
              "    </tr>\n",
              "    <tr>\n",
              "      <th>8228</th>\n",
              "      <td>Sridip Bhattacharya</td>\n",
              "      <td>CPI(M)</td>\n",
              "      <td>57</td>\n",
              "      <td>Graduate Professional</td>\n",
              "      <td>58</td>\n",
              "      <td>HOWRAH</td>\n",
              "      <td>2014</td>\n",
              "    </tr>\n",
              "    <tr>\n",
              "      <th>7432</th>\n",
              "      <td>Ateek Ahmad</td>\n",
              "      <td>IND</td>\n",
              "      <td>59</td>\n",
              "      <td>8th Pass</td>\n",
              "      <td>54</td>\n",
              "      <td>VARANASI</td>\n",
              "      <td>2019</td>\n",
              "    </tr>\n",
              "    <tr>\n",
              "      <th>2818</th>\n",
              "      <td>Dean Kuriakose</td>\n",
              "      <td>INC</td>\n",
              "      <td>204</td>\n",
              "      <td>Post Graduate</td>\n",
              "      <td>37</td>\n",
              "      <td>IDUKKI</td>\n",
              "      <td>2019</td>\n",
              "    </tr>\n",
              "    <tr>\n",
              "      <th>2908</th>\n",
              "      <td>K Surendran</td>\n",
              "      <td>BJP</td>\n",
              "      <td>240</td>\n",
              "      <td>Graduate</td>\n",
              "      <td>49</td>\n",
              "      <td>PATHANAMTHITTA</td>\n",
              "      <td>2019</td>\n",
              "    </tr>\n",
              "    <tr>\n",
              "      <th>6056</th>\n",
              "      <td>M.pushparayan</td>\n",
              "      <td>AAP</td>\n",
              "      <td>380</td>\n",
              "      <td>Post Graduate</td>\n",
              "      <td>46</td>\n",
              "      <td>THOOTHUKKUDI</td>\n",
              "      <td>2014</td>\n",
              "    </tr>\n",
              "    <tr>\n",
              "      <th>5714</th>\n",
              "      <td>Udayakumar S.p.</td>\n",
              "      <td>AAP</td>\n",
              "      <td>382</td>\n",
              "      <td>Doctorate</td>\n",
              "      <td>54</td>\n",
              "      <td>KANNIYAKUMARI</td>\n",
              "      <td>2014</td>\n",
              "    </tr>\n",
              "  </tbody>\n",
              "</table>\n",
              "</div>"
            ],
            "text/plain": [
              "                Candidate   Party  ...                                  City  Year\n",
              "2427     KAMESHWAR BAITHA     JMM  ...                               Palamau  2009\n",
              "2267     Kameshwar Baitha    AITC  ...                               PALAMAU  2014\n",
              "6031       Bapu Rao Soyam     BJP  ...                              ADILABAD  2019\n",
              "7627           Atiq Ahmad     IND  ...  PHULPUR : BYE ELECTION ON 11-03-2018  2014\n",
              "8228  Sridip Bhattacharya  CPI(M)  ...                                HOWRAH  2014\n",
              "7432          Ateek Ahmad     IND  ...                              VARANASI  2019\n",
              "2818       Dean Kuriakose     INC  ...                                IDUKKI  2019\n",
              "2908          K Surendran     BJP  ...                        PATHANAMTHITTA  2019\n",
              "6056        M.pushparayan     AAP  ...                          THOOTHUKKUDI  2014\n",
              "5714      Udayakumar S.p.     AAP  ...                         KANNIYAKUMARI  2014\n",
              "\n",
              "[10 rows x 7 columns]"
            ]
          },
          "metadata": {
            "tags": []
          },
          "execution_count": 14
        }
      ]
    },
    {
      "cell_type": "code",
      "metadata": {
        "trusted": true,
        "id": "P9DK71cT4bW4",
        "colab_type": "code",
        "colab": {
          "base_uri": "https://localhost:8080/",
          "height": 369
        },
        "outputId": "e4713e3f-129b-4ea9-e687-45f58dbbd65d"
      },
      "source": [
        "sns.catplot(x=\"Criminal Cases\",y=\"Candidate\",data=df3, kind=\"bar\");\n",
        "plt.ylabel(\"Candidates\");"
      ],
      "execution_count": 15,
      "outputs": [
        {
          "output_type": "display_data",
          "data": {
            "image/png": "[encoded data removed]",
            "text/plain": [
              "<Figure size 360x360 with 1 Axes>"
            ]
          },
          "metadata": {
            "tags": [],
            "needs_background": "light"
          }
        }
      ]
    },
    {
      "cell_type": "markdown",
      "metadata": {
        "id": "gPVO8dyY4bW6",
        "colab_type": "text"
      },
      "source": [
        "$$\\textrm{If you like the work please upvote :-) }$$\n",
        "**$$\\textrm{Comments are Welcome}$$**"
      ]
    }
  ]
}